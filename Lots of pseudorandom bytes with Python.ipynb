{
 "cells": [
  {
   "cell_type": "markdown",
   "metadata": {},
   "source": [
    "# How to generate a huge number of pseudorandom bytes using Python\n",
    "© Stefano Cappellini\n",
    "\n",
    "This is the code used to generate the benchmark discussed here: http://stefanocappellini.com/generate-pseudorandom-bytes-with-python\n",
    "\n",
    "Resources: https://stackoverflow.com/questions/7044044/an-efficient-way-of-making-a-large-random-bytearray"
   ]
  },
  {
   "cell_type": "code",
   "execution_count": null,
   "metadata": {},
   "outputs": [],
   "source": [
    "import hashlib\n",
    "import os\n",
    "import random\n",
    "import timeit\n",
    "import numpy as np\n",
    "import scipy\n",
    "import array\n",
    "from Crypto.Cipher import AES\n",
    "from subprocess import call, check_output\n",
    "from matplotlib import pyplot as plt\n",
    "import tensorflow as tf"
   ]
  },
  {
   "cell_type": "code",
   "execution_count": null,
   "metadata": {},
   "outputs": [],
   "source": [
    "def generate_one(size):\n",
    "    return bytes((random.randint(0, 255) for _ in range(size)))"
   ]
  },
  {
   "cell_type": "code",
   "execution_count": null,
   "metadata": {},
   "outputs": [],
   "source": [
    "def generate_two(size):\n",
    "    return bytes((np.random.randint(0, 256) for _ in range(size)))"
   ]
  },
  {
   "cell_type": "code",
   "execution_count": null,
   "metadata": {},
   "outputs": [],
   "source": [
    "def generate_three(size):\n",
    "    return bytes(np.random.randint(0, 256, size))"
   ]
  },
  {
   "cell_type": "code",
   "execution_count": null,
   "metadata": {},
   "outputs": [],
   "source": [
    "def generate_four(size):\n",
    "     return np.random.bytes(size)"
   ]
  },
  {
   "cell_type": "code",
   "execution_count": null,
   "metadata": {},
   "outputs": [],
   "source": [
    "def generate_five(size):\n",
    "    return os.urandom(size)"
   ]
  },
  {
   "cell_type": "code",
   "execution_count": null,
   "metadata": {},
   "outputs": [],
   "source": [
    "def generate_six(size):\n",
    "    return bytes((random.getrandbits(8) for _ in range(size)))"
   ]
  },
  {
   "cell_type": "code",
   "execution_count": null,
   "metadata": {},
   "outputs": [],
   "source": [
    "def generate_seven(size):\n",
    "    return bytes(map(random.getrandbits, (8,) * size))"
   ]
  },
  {
   "cell_type": "code",
   "execution_count": null,
   "metadata": {},
   "outputs": [],
   "source": [
    "def generate_eight(size):\n",
    "    return check_output(['openssl', 'rand',  str(size)])"
   ]
  },
  {
   "cell_type": "code",
   "execution_count": null,
   "metadata": {},
   "outputs": [],
   "source": [
    "def generate_nine(size):\n",
    "    enc = AES.new(\"secretkeysecretk\", AES.MODE_OFB, b'a' * 16)\n",
    "    return enc.encrypt(b' ' * size)"
   ]
  },
  {
   "cell_type": "code",
   "execution_count": null,
   "metadata": {},
   "outputs": [],
   "source": [
    "def generate_ten(size):\n",
    "    tf.reset_default_graph()\n",
    "    size_t = tf.placeholder(tf.int32)\n",
    "    x = tf.random_uniform((size_t,), 0, 256, dtype=tf.int32)\n",
    "    return bytes(tf.Session().run(x, {size_t: size}))"
   ]
  },
  {
   "cell_type": "code",
   "execution_count": null,
   "metadata": {},
   "outputs": [],
   "source": [
    "def generate_eleven(size):\n",
    "    tf.reset_default_graph()\n",
    "    size_t = tf.placeholder(tf.int32)\n",
    "    x = tf.random_uniform((size_t,), 0, 256, dtype=tf.int32)\n",
    "    config = tf.ConfigProto(\n",
    "        device_count = {'GPU': 0}\n",
    "    )\n",
    "    return bytes(tf.Session(config=config).run(x, {size_t: size}))"
   ]
  },
  {
   "cell_type": "code",
   "execution_count": null,
   "metadata": {},
   "outputs": [],
   "source": [
    "def benchmark_code(fn, size):\n",
    "    return timeit.timeit(lambda: fn(size), number=10)"
   ]
  }
 ],
 "metadata": {
  "kernelspec": {
   "display_name": "Python [conda env:projects]",
   "language": "python",
   "name": "conda-env-projects-py"
  },
  "language_info": {
   "codemirror_mode": {
    "name": "ipython",
    "version": 3
   },
   "file_extension": ".py",
   "mimetype": "text/x-python",
   "name": "python",
   "nbconvert_exporter": "python",
   "pygments_lexer": "ipython3",
   "version": "3.6.4"
  }
 },
 "nbformat": 4,
 "nbformat_minor": 2
}
